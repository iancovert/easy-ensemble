{
 "cells": [
  {
   "cell_type": "code",
   "execution_count": 1,
   "id": "6369f1d2-8a56-49c9-9e80-fcb4f4025ddb",
   "metadata": {},
   "outputs": [],
   "source": [
    "import numpy as np\n",
    "import lightgbm as lgb\n",
    "import matplotlib.pyplot as plt\n",
    "from shap.datasets import adult\n",
    "from ensemble import Ensemble, log_loss, accuracy"
   ]
  },
  {
   "cell_type": "code",
   "execution_count": 2,
   "id": "843bad04-508a-473e-b02f-9d3ada696b69",
   "metadata": {},
   "outputs": [
    {
     "name": "stdout",
     "output_type": "stream",
     "text": [
      "X.shape = (32561, 12), Y.shape = (32561,)\n",
      "train examples = 19537, val examples = 6512, test examples = 6512\n"
     ]
    }
   ],
   "source": [
    "# Load data\n",
    "X, Y = adult()\n",
    "X = X.values\n",
    "Y = Y.astype(int)\n",
    "print(f'X.shape = {X.shape}, Y.shape = {Y.shape}')\n",
    "\n",
    "# Split into training, val, test\n",
    "val_portion = 0.2\n",
    "test_portion = 0.2\n",
    "\n",
    "# Shuffle inds\n",
    "np.random.seed(0)\n",
    "inds = np.arange(len(X))\n",
    "np.random.shuffle(inds)\n",
    "num_val = int(len(X) * val_portion)\n",
    "num_test = int(len(X) * test_portion)\n",
    "\n",
    "# Apply split\n",
    "X_val, Y_val = X[:num_val], Y[:num_val]\n",
    "X_test, Y_test = X[num_val:num_val+num_test], Y[num_val:num_val+num_test]\n",
    "X_train, Y_train = X[num_val+num_test:], Y[num_val+num_test:]\n",
    "del X, Y\n",
    "print(f'train examples = {len(X_train)}, val examples = {len(X_val)}, test examples = {len(X_test)}')"
   ]
  },
  {
   "cell_type": "code",
   "execution_count": 3,
   "id": "6c8a1488-1f90-48e0-8bfa-c772a52b8442",
   "metadata": {},
   "outputs": [],
   "source": [
    "# Train models with random feature subsets\n",
    "np.random.seed(0)\n",
    "num_features = 5\n",
    "num_models = 10  # 10\n",
    "models = []\n",
    "for seed in range(num_models):\n",
    "    # Generate feature mask\n",
    "    inds = np.random.choice(X_train.shape[1], num_features, replace=False)\n",
    "    mask = np.zeros(X_train.shape[1])\n",
    "    mask[inds] = 1\n",
    "\n",
    "    # Create LGBM datasets\n",
    "    d_train = lgb.Dataset(X_train * mask, label=Y_train)\n",
    "    d_val = lgb.Dataset(X_val * mask, label=Y_val)\n",
    "\n",
    "    # Model parameters\n",
    "    params = {\n",
    "        'max_bin': 512,\n",
    "        'learning_rate': 0.1,\n",
    "        'boosting_type': 'gbdt',\n",
    "        'objective': 'binary',\n",
    "        'metric': 'binary_logloss',\n",
    "        'num_leaves': 8,\n",
    "        'verbose': -1,\n",
    "        'min_data': 100,\n",
    "        'boost_from_average': True,\n",
    "        'random_state': seed\n",
    "    }\n",
    "    \n",
    "    # Train\n",
    "    model = lgb.train(params, d_train, num_boost_round=200, valid_sets=[d_val], early_stopping_rounds=50, verbose_eval=0)\n",
    "    models.append(model)"
   ]
  },
  {
   "cell_type": "code",
   "execution_count": 4,
   "id": "2c1a1c4f-54b8-4b42-a703-4ce59d645205",
   "metadata": {},
   "outputs": [
    {
     "name": "stdout",
     "output_type": "stream",
     "text": [
      "Train loss = 0.43, train acc = 79.85, val loss = 0.45, val acc = 78.99\n",
      "Train loss = 0.34, train acc = 84.12, val loss = 0.35, val acc = 83.08\n",
      "Train loss = 0.43, train acc = 80.45, val loss = 0.45, val acc = 79.51\n",
      "Train loss = 0.29, train acc = 86.71, val loss = 0.30, val acc = 85.92\n",
      "Train loss = 0.38, train acc = 80.65, val loss = 0.38, val acc = 80.57\n",
      "Train loss = 0.30, train acc = 86.20, val loss = 0.32, val acc = 85.33\n",
      "Train loss = 0.34, train acc = 84.00, val loss = 0.35, val acc = 83.15\n",
      "Train loss = 0.43, train acc = 80.85, val loss = 0.44, val acc = 79.71\n",
      "Train loss = 0.41, train acc = 80.43, val loss = 0.42, val acc = 79.53\n",
      "Train loss = 0.41, train acc = 82.86, val loss = 0.42, val acc = 82.86\n"
     ]
    }
   ],
   "source": [
    "# Calculate performance metrics for each model\n",
    "for model in models:\n",
    "    # Training performance\n",
    "    preds = model.predict(X_train)\n",
    "    train_loss = log_loss(preds, Y_train)\n",
    "    train_acc = accuracy(preds, Y_train)\n",
    "\n",
    "    # Validation performance\n",
    "    preds = model.predict(X_val)\n",
    "    val_loss = log_loss(preds, Y_val)\n",
    "    val_acc = accuracy(preds, Y_val)\n",
    "    print(f'Train loss = {train_loss:.2f}, train acc = {100 * train_acc:.2f}, val loss = {val_loss:.2f}, val acc = {100 * val_acc:.2f}')"
   ]
  },
  {
   "cell_type": "code",
   "execution_count": 5,
   "id": "010ba364-c540-4a97-bf4d-11ec00976080",
   "metadata": {},
   "outputs": [],
   "source": [
    "# Aggregate validation and test predictions\n",
    "val_preds = {f'LGBM ({i})': model.predict(X_val) for i, model in enumerate(models)}\n",
    "test_preds = {f'LGBM ({i})': model.predict(X_test) for i, model in enumerate(models)}\n",
    "\n",
    "# Evaluate models in isolation\n",
    "val_loss = {name: log_loss(preds, Y_val) for name, preds in val_preds.items()}\n",
    "val_acc = {name: accuracy(preds, Y_val) for name, preds in val_preds.items()}\n",
    "test_loss = {name: log_loss(preds, Y_test) for name, preds in test_preds.items()}\n",
    "test_acc = {name: accuracy(preds, Y_test) for name, preds in test_preds.items()}"
   ]
  },
  {
   "cell_type": "code",
   "execution_count": 6,
   "id": "fd715358-c8de-4b07-b5cb-78eab3bcffe4",
   "metadata": {},
   "outputs": [
    {
     "name": "stdout",
     "output_type": "stream",
     "text": [
      "[Easy-Ensemble]: Defaulting to evenly weighted ensemble. Use the `fit` function to optimize the ensemble\n"
     ]
    }
   ],
   "source": [
    "# Create ensemble\n",
    "ensemble = Ensemble('binary:logloss_logits', 'simplex')\n",
    "\n",
    "# Generate predictions using uniform weighting\n",
    "ensemble_val_preds = ensemble.predict(val_preds.values())\n",
    "ensemble_test_preds = ensemble.predict(test_preds.values())"
   ]
  },
  {
   "cell_type": "code",
   "execution_count": 7,
   "id": "a2883275-f58a-4d86-8848-a764f61ce561",
   "metadata": {},
   "outputs": [],
   "source": [
    "# Evaluate simple ensemble\n",
    "ensemble_val_loss = log_loss(ensemble_val_preds, Y_val)\n",
    "ensemble_val_acc = accuracy(ensemble_val_preds, Y_val)\n",
    "val_loss['Uniform Ensemble'] = ensemble_val_loss\n",
    "val_acc['Uniform Ensemble'] = ensemble_val_acc\n",
    "\n",
    "ensemble_test_loss = log_loss(ensemble_test_preds, Y_test)\n",
    "ensemble_test_acc = accuracy(ensemble_test_preds, Y_test)\n",
    "test_loss['Uniform Ensemble'] = ensemble_test_loss\n",
    "test_acc['Uniform Ensemble'] = ensemble_test_acc"
   ]
  },
  {
   "cell_type": "code",
   "execution_count": 8,
   "id": "176b0e51-e289-41d8-8ea9-5e96981d6751",
   "metadata": {},
   "outputs": [],
   "source": [
    "# Fit the ensemble\n",
    "ensemble.fit(list(val_preds.values()), Y_val)\n",
    "\n",
    "# Generate validation and test predictions\n",
    "ensemble_val_preds = ensemble.predict(val_preds.values())\n",
    "ensemble_test_preds = ensemble.predict(test_preds.values())"
   ]
  },
  {
   "cell_type": "code",
   "execution_count": 9,
   "id": "a13d795b-6a40-4107-9e4f-92f85fb1e0be",
   "metadata": {},
   "outputs": [
    {
     "data": {
      "image/png": "[encoded data removed]",
      "text/plain": [
       "<Figure size 432x288 with 1 Axes>"
      ]
     },
     "metadata": {
      "needs_background": "light"
     },
     "output_type": "display_data"
    }
   ],
   "source": [
    "# Plot learned weights\n",
    "plt.figure()\n",
    "plt.bar(range(len(models)), ensemble.weights)\n",
    "plt.xticks(range(len(models)), val_preds.keys(), rotation=45,\n",
    "           rotation_mode='anchor', ha='right')\n",
    "plt.title('Learned Ensemble Weights')\n",
    "plt.ylabel('Weights')\n",
    "plt.show()"
   ]
  },
  {
   "cell_type": "code",
   "execution_count": 10,
   "id": "70205850-4730-43b5-9778-5e97b080cff2",
   "metadata": {},
   "outputs": [],
   "source": [
    "# Evaluate learned ensemble\n",
    "ensemble_val_loss = log_loss(ensemble_val_preds, Y_val)\n",
    "ensemble_val_acc = accuracy(ensemble_val_preds, Y_val)\n",
    "val_loss['Learned Ensemble'] = ensemble_val_loss\n",
    "val_acc['Learned Ensemble'] = ensemble_val_acc\n",
    "\n",
    "ensemble_test_loss = log_loss(ensemble_test_preds, Y_test)\n",
    "ensemble_test_acc = accuracy(ensemble_test_preds, Y_test)\n",
    "test_loss['Learned Ensemble'] = ensemble_test_loss\n",
    "test_acc['Learned Ensemble'] = ensemble_test_acc"
   ]
  },
  {
   "cell_type": "code",
   "execution_count": 11,
   "id": "bfd19b2d-bf29-420d-8ba2-c8267ea9b1cc",
   "metadata": {},
   "outputs": [
    {
     "data": {
      "image/png": "[encoded data removed]",
      "text/plain": [
       "<Figure size 864x288 with 2 Axes>"
      ]
     },
     "metadata": {
      "needs_background": "light"
     },
     "output_type": "display_data"
    }
   ],
   "source": [
    "# Plot performance\n",
    "fig, axarr = plt.subplots(1, 2, figsize=(12, 4), sharey=True)\n",
    "\n",
    "plt.sca(axarr[0])\n",
    "plt.bar(range(len(val_loss)), val_loss.values(),\n",
    "        color=['C0' for _ in range(len(val_loss) - 2)] + ['C1', 'C2'])\n",
    "plt.xticks(range(len(val_loss)), val_loss.keys(), rotation=45,\n",
    "           rotation_mode='anchor', ha='right')\n",
    "plt.axhline(val_loss['Learned Ensemble'], linestyle=':', color='black')\n",
    "plt.ylabel('Log Loss')\n",
    "plt.title('Validation Loss')\n",
    "\n",
    "plt.sca(axarr[1])\n",
    "plt.bar(range(len(test_loss)), test_loss.values(),\n",
    "        color=['C0' for _ in range(len(test_loss) - 2)] + ['C1', 'C2'])\n",
    "plt.xticks(range(len(test_loss)), test_loss.keys(), rotation=45,\n",
    "           rotation_mode='anchor', ha='right')\n",
    "plt.axhline(test_loss['Learned Ensemble'], linestyle=':', color='black')\n",
    "plt.title('Test Loss')\n",
    "\n",
    "plt.tight_layout()\n",
    "plt.show()"
   ]
  },
  {
   "cell_type": "code",
   "execution_count": 12,
   "id": "812cb888-f8c1-4475-b91b-2a6a83560bb7",
   "metadata": {},
   "outputs": [
    {
     "data": {
      "image/png": "[encoded data removed]",
      "text/plain": [
       "<Figure size 864x288 with 2 Axes>"
      ]
     },
     "metadata": {
      "needs_background": "light"
     },
     "output_type": "display_data"
    }
   ],
   "source": [
    "# Plot performance\n",
    "fig, axarr = plt.subplots(1, 2, figsize=(12, 4), sharey=True)\n",
    "\n",
    "plt.sca(axarr[0])\n",
    "plt.bar(range(len(val_acc)), val_acc.values(),\n",
    "        color=['C0' for _ in range(len(val_acc) - 2)] + ['C1', 'C2'])\n",
    "plt.xticks(range(len(val_acc)), val_acc.keys(), rotation=45,\n",
    "           rotation_mode='anchor', ha='right')\n",
    "plt.axhline(val_acc['Learned Ensemble'], linestyle=':', color='black')\n",
    "plt.ylabel('Accuracy')\n",
    "plt.title('Validation Accuracy')\n",
    "\n",
    "plt.sca(axarr[1])\n",
    "plt.bar(range(len(test_acc)), test_acc.values(),\n",
    "        color=['C0' for _ in range(len(test_acc) - 2)] + ['C1', 'C2'])\n",
    "plt.xticks(range(len(test_acc)), test_acc.keys(), rotation=45,\n",
    "           rotation_mode='anchor', ha='right')\n",
    "plt.axhline(test_acc['Learned Ensemble'], linestyle=':', color='black')\n",
    "plt.title('Test Accuracy')\n",
    "plt.ylim(0.5, 1.0)\n",
    "\n",
    "plt.tight_layout()\n",
    "plt.show()"
   ]
  },
  {
   "cell_type": "code",
   "execution_count": null,
   "id": "376e83c8-cb27-4dc9-9dd7-9feaffd3113c",
   "metadata": {},
   "outputs": [],
   "source": []
  }
 ],
 "metadata": {
  "kernelspec": {
   "display_name": "Python 3",
   "language": "python",
   "name": "python3"
  },
  "language_info": {
   "codemirror_mode": {
    "name": "ipython",
    "version": 3
   },
   "file_extension": ".py",
   "mimetype": "text/x-python",
   "name": "python",
   "nbconvert_exporter": "python",
   "pygments_lexer": "ipython3",
   "version": "3.6.13"
  }
 },
 "nbformat": 4,
 "nbformat_minor": 5
}
