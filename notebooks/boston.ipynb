{
 "cells": [
  {
   "cell_type": "code",
   "execution_count": 1,
   "id": "6f7bc177-d55e-4eed-9e68-6d15d9583aef",
   "metadata": {},
   "outputs": [],
   "source": [
    "import numpy as np\n",
    "import matplotlib.pyplot as plt\n",
    "from shap.datasets import boston\n",
    "from sklearn.linear_model import Ridge\n",
    "from ensemble import Ensemble, mean_squared_error, mean_absolute_error"
   ]
  },
  {
   "cell_type": "code",
   "execution_count": 2,
   "id": "e284c80b-404b-425b-82dd-d6b8d4a40c09",
   "metadata": {},
   "outputs": [
    {
     "name": "stdout",
     "output_type": "stream",
     "text": [
      "X.shape = (506, 13), Y.shape = (506,)\n",
      "train examples = 304, val examples = 101, test examples = 101\n"
     ]
    }
   ],
   "source": [
    "# Load data\n",
    "X, Y = boston()\n",
    "X = X.values\n",
    "print(f'X.shape = {X.shape}, Y.shape = {Y.shape}')\n",
    "\n",
    "# Split into training, val, test\n",
    "val_portion = 0.2\n",
    "test_portion = 0.2\n",
    "\n",
    "# Shuffle inds\n",
    "np.random.seed(0)\n",
    "inds = np.arange(len(X))\n",
    "np.random.shuffle(inds)\n",
    "num_val = int(len(X) * val_portion)\n",
    "num_test = int(len(X) * test_portion)\n",
    "\n",
    "# Apply split\n",
    "X_val, Y_val = X[:num_val], Y[:num_val]\n",
    "X_test, Y_test = X[num_val:num_val+num_test], Y[num_val:num_val+num_test]\n",
    "X_train, Y_train = X[num_val+num_test:], Y[num_val+num_test:]\n",
    "del X, Y\n",
    "print(f'train examples = {len(X_train)}, val examples = {len(X_val)}, test examples = {len(X_test)}')"
   ]
  },
  {
   "cell_type": "code",
   "execution_count": 3,
   "id": "322707c9-ad89-4698-a645-6c20ad06ae83",
   "metadata": {},
   "outputs": [],
   "source": [
    "# Train models with random feature subsets\n",
    "np.random.seed(0)\n",
    "num_features = 5\n",
    "num_models = 10\n",
    "models = []\n",
    "for _ in range(num_models):\n",
    "    # Generate feature mask\n",
    "    inds = np.random.choice(X_train.shape[1], num_features, replace=False)\n",
    "    mask = np.zeros(X_train.shape[1])\n",
    "    mask[inds] = 1\n",
    "    \n",
    "    # Train model\n",
    "    model = Ridge(alpha=0.1)\n",
    "    model.fit(X_train * mask, Y_train)\n",
    "    models.append(model)"
   ]
  },
  {
   "cell_type": "code",
   "execution_count": 4,
   "id": "1d9fc896-9485-4d3c-b4eb-6c1b5e156926",
   "metadata": {},
   "outputs": [
    {
     "name": "stdout",
     "output_type": "stream",
     "text": [
      "Train MSE = 55.81, train MAE = 5.25, val MSE = 35.13, val MAE = 4.64\n",
      "Train MSE = 43.33, train MAE = 4.49, val MSE = 13.49, val MAE = 3.01\n",
      "Train MSE = 54.35, train MAE = 5.26, val MSE = 23.84, val MAE = 3.71\n",
      "Train MSE = 44.18, train MAE = 4.48, val MSE = 13.97, val MAE = 2.91\n",
      "Train MSE = 46.61, train MAE = 4.54, val MSE = 10.85, val MAE = 2.69\n",
      "Train MSE = 35.67, train MAE = 4.33, val MSE = 10.87, val MAE = 2.80\n",
      "Train MSE = 34.64, train MAE = 4.26, val MSE = 23.73, val MAE = 3.82\n",
      "Train MSE = 54.58, train MAE = 5.20, val MSE = 35.56, val MAE = 4.66\n",
      "Train MSE = 33.65, train MAE = 4.09, val MSE = 17.39, val MAE = 3.25\n",
      "Train MSE = 58.46, train MAE = 5.43, val MSE = 36.31, val MAE = 4.61\n"
     ]
    }
   ],
   "source": [
    "# Calculate performance metrics for each model\n",
    "for model in models:\n",
    "    # Training performance\n",
    "    preds = model.predict(X_train)\n",
    "    train_mse = mean_squared_error(preds, Y_train)\n",
    "    train_mae = mean_absolute_error(preds, Y_train)\n",
    "\n",
    "    # Validation performance\n",
    "    preds = model.predict(X_val)\n",
    "    val_mse = mean_squared_error(preds, Y_val)\n",
    "    val_mae = mean_absolute_error(preds, Y_val)\n",
    "    print(f'Train MSE = {train_mse:.2f}, train MAE = {train_mae:.2f}, val MSE = {val_mse:.2f}, val MAE = {val_mae:.2f}')"
   ]
  },
  {
   "cell_type": "code",
   "execution_count": 5,
   "id": "1411b029-975e-467e-bd0c-7c1c523e5b4a",
   "metadata": {},
   "outputs": [],
   "source": [
    "# Aggregate validation and test predictions\n",
    "val_preds = {f'Ridge ({i})': model.predict(X_val) for i, model in enumerate(models)}\n",
    "test_preds = {f'Ridge ({i})': model.predict(X_test) for i, model in enumerate(models)}\n",
    "\n",
    "# Evaluate models in isolation\n",
    "val_mse = {name: mean_squared_error(preds, Y_val) for name, preds in val_preds.items()}\n",
    "val_mae = {name: mean_absolute_error(preds, Y_val) for name, preds in val_preds.items()}\n",
    "test_mse = {name: mean_squared_error(preds, Y_test) for name, preds in test_preds.items()}\n",
    "test_mae = {name: mean_absolute_error(preds, Y_test) for name, preds in test_preds.items()}"
   ]
  },
  {
   "cell_type": "code",
   "execution_count": 6,
   "id": "b1b37fb1-d0ce-4fe7-aa08-23a398d796e3",
   "metadata": {},
   "outputs": [
    {
     "name": "stdout",
     "output_type": "stream",
     "text": [
      "[Easy-Ensemble]: Defaulting to evenly weighted ensemble. Use the `fit` function to optimize the ensemble\n"
     ]
    }
   ],
   "source": [
    "# Create ensemble\n",
    "ensemble = Ensemble('reg:mse', 'simplex')\n",
    "\n",
    "# Generate predictions using uniform weighting\n",
    "ensemble_val_preds = ensemble.predict(val_preds.values())\n",
    "ensemble_test_preds = ensemble.predict(test_preds.values())"
   ]
  },
  {
   "cell_type": "code",
   "execution_count": 7,
   "id": "f07f9080-1a72-4865-a1b8-14fc7c7ccede",
   "metadata": {},
   "outputs": [],
   "source": [
    "# Evaluate simple ensemble\n",
    "ensemble_val_mse = mean_squared_error(ensemble_val_preds, Y_val)\n",
    "ensemble_val_mae = mean_absolute_error(ensemble_val_preds, Y_val)\n",
    "val_mse['Uniform Ensemble'] = ensemble_val_mse\n",
    "val_mae['Uniform Ensemble'] = ensemble_val_mae\n",
    "\n",
    "ensemble_test_mse = mean_squared_error(ensemble_test_preds, Y_test)\n",
    "ensemble_test_mae = mean_absolute_error(ensemble_test_preds, Y_test)\n",
    "test_mse['Uniform Ensemble'] = ensemble_test_mse\n",
    "test_mae['Uniform Ensemble'] = ensemble_test_mae"
   ]
  },
  {
   "cell_type": "code",
   "execution_count": 8,
   "id": "d0c88158-598b-4c57-a11c-e94614cc3036",
   "metadata": {},
   "outputs": [],
   "source": [
    "# Fit the ensemble\n",
    "ensemble.fit(val_preds.values(), Y_val)\n",
    "\n",
    "# Generate validation and test predictions\n",
    "ensemble_val_preds = ensemble.predict(val_preds.values())\n",
    "ensemble_test_preds = ensemble.predict(test_preds.values())"
   ]
  },
  {
   "cell_type": "code",
   "execution_count": 9,
   "id": "04d2d31d-fa57-4350-b21c-886a56823086",
   "metadata": {},
   "outputs": [
    {
     "data": {
      "image/png": "[encoded data removed]",
      "text/plain": [
       "<Figure size 432x288 with 1 Axes>"
      ]
     },
     "metadata": {
      "needs_background": "light"
     },
     "output_type": "display_data"
    }
   ],
   "source": [
    "# Plot learned weights\n",
    "plt.figure()\n",
    "plt.bar(range(len(models)), ensemble.weights)\n",
    "plt.xticks(range(len(models)), val_preds.keys(), rotation=45,\n",
    "           rotation_mode='anchor', ha='right')\n",
    "plt.title('Learned Ensemble Weights')\n",
    "plt.ylabel('Weights')\n",
    "plt.show()"
   ]
  },
  {
   "cell_type": "code",
   "execution_count": 10,
   "id": "806b53ca-abd0-4a4c-ba3d-92e63ed8a981",
   "metadata": {},
   "outputs": [],
   "source": [
    "# Calculate learned ensemble performance\n",
    "ensemble_val_mse = mean_squared_error(ensemble_val_preds, Y_val)\n",
    "ensemble_val_mae = mean_absolute_error(ensemble_val_preds, Y_val)\n",
    "val_mse['Learned Ensemble'] = ensemble_val_mse\n",
    "val_mae['Learned Ensemble'] = ensemble_val_mae\n",
    "\n",
    "ensemble_test_mse = mean_squared_error(ensemble_test_preds, Y_test)\n",
    "ensemble_test_mae = mean_absolute_error(ensemble_test_preds, Y_test)\n",
    "test_mse['Learned Ensemble'] = ensemble_test_mse\n",
    "test_mae['Learned Ensemble'] = ensemble_test_mae"
   ]
  },
  {
   "cell_type": "code",
   "execution_count": 11,
   "id": "db0db197-2bc4-461d-ae31-e7004eb7d941",
   "metadata": {},
   "outputs": [
    {
     "data": {
      "image/png": "[encoded data removed]",
      "text/plain": [
       "<Figure size 864x288 with 2 Axes>"
      ]
     },
     "metadata": {
      "needs_background": "light"
     },
     "output_type": "display_data"
    }
   ],
   "source": [
    "# Plot performance\n",
    "fig, axarr = plt.subplots(1, 2, figsize=(12, 4), sharey=True)\n",
    "\n",
    "plt.sca(axarr[0])\n",
    "plt.bar(range(len(val_mse)), val_mse.values(),\n",
    "        color=['C0' for _ in range(len(val_mse) - 2)] + ['C1', 'C2'])\n",
    "plt.xticks(range(len(val_mse)), val_mse.keys(), rotation=45,\n",
    "           rotation_mode='anchor', ha='right')\n",
    "plt.axhline(val_mse['Learned Ensemble'], linestyle=':', color='black')\n",
    "plt.ylabel('MSE')\n",
    "plt.title('Validation MSE')\n",
    "\n",
    "plt.sca(axarr[1])\n",
    "plt.bar(range(len(test_mse)), test_mse.values(),\n",
    "        color=['C0' for _ in range(len(test_mse) - 2)] + ['C1', 'C2'])\n",
    "plt.xticks(range(len(test_mse)), test_mse.keys(), rotation=45,\n",
    "           rotation_mode='anchor', ha='right')\n",
    "plt.axhline(test_mse['Learned Ensemble'], linestyle=':', color='black')\n",
    "plt.title('Test MSE')\n",
    "\n",
    "plt.tight_layout()\n",
    "plt.show()"
   ]
  },
  {
   "cell_type": "code",
   "execution_count": 12,
   "id": "29886444-fe43-494d-b031-6bc8cfff682e",
   "metadata": {},
   "outputs": [
    {
     "data": {
      "image/png": "[encoded data removed]",
      "text/plain": [
       "<Figure size 864x288 with 2 Axes>"
      ]
     },
     "metadata": {
      "needs_background": "light"
     },
     "output_type": "display_data"
    }
   ],
   "source": [
    "# Plot performance\n",
    "fig, axarr = plt.subplots(1, 2, figsize=(12, 4), sharey=True)\n",
    "\n",
    "plt.sca(axarr[0])\n",
    "plt.bar(range(len(val_mae)), val_mae.values(),\n",
    "        color=['C0' for _ in range(len(val_mse) - 2)] + ['C1', 'C2'])\n",
    "plt.xticks(range(len(val_mae)), val_mae.keys(), rotation=45,\n",
    "           rotation_mode='anchor', ha='right')\n",
    "plt.axhline(val_mae['Learned Ensemble'], linestyle=':', color='black')\n",
    "plt.ylabel('MAE')\n",
    "plt.title('Validation MAE')\n",
    "\n",
    "plt.sca(axarr[1])\n",
    "plt.bar(range(len(test_mae)), test_mae.values(),\n",
    "        color=['C0' for _ in range(len(test_mae) - 2)] + ['C1', 'C2'])\n",
    "plt.xticks(range(len(test_mae)), test_mae.keys(), rotation=45,\n",
    "           rotation_mode='anchor', ha='right')\n",
    "plt.axhline(test_mae['Learned Ensemble'], linestyle=':', color='black')\n",
    "plt.title('Test MAE')\n",
    "\n",
    "plt.tight_layout()\n",
    "plt.show()"
   ]
  },
  {
   "cell_type": "code",
   "execution_count": null,
   "id": "2f3f7b86-9ddf-460f-9ed4-b452ca8ae1b7",
   "metadata": {},
   "outputs": [],
   "source": []
  }
 ],
 "metadata": {
  "kernelspec": {
   "display_name": "Python 3",
   "language": "python",
   "name": "python3"
  },
  "language_info": {
   "codemirror_mode": {
    "name": "ipython",
    "version": 3
   },
   "file_extension": ".py",
   "mimetype": "text/x-python",
   "name": "python",
   "nbconvert_exporter": "python",
   "pygments_lexer": "ipython3",
   "version": "3.6.13"
  }
 },
 "nbformat": 4,
 "nbformat_minor": 5
}
