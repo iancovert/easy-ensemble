{
 "cells": [
  {
   "cell_type": "code",
   "execution_count": 1,
   "id": "6f7bc177-d55e-4eed-9e68-6d15d9583aef",
   "metadata": {},
   "outputs": [],
   "source": [
    "import numpy as np\n",
    "import matplotlib.pyplot as plt\n",
    "from shap.datasets import boston\n",
    "from sklearn.linear_model import Ridge\n",
    "from ensemble import utils, Ensemble"
   ]
  },
  {
   "cell_type": "code",
   "execution_count": 2,
   "id": "e284c80b-404b-425b-82dd-d6b8d4a40c09",
   "metadata": {},
   "outputs": [
    {
     "name": "stdout",
     "output_type": "stream",
     "text": [
      "X.shape = (506, 13), Y.shape = (506,)\n",
      "train examples = 304, val examples = 101, test examples = 101\n"
     ]
    }
   ],
   "source": [
    "# Load data\n",
    "X, Y = boston()\n",
    "X = X.values\n",
    "print(f'X.shape = {X.shape}, Y.shape = {Y.shape}')\n",
    "\n",
    "# Split into training, val, test\n",
    "val_portion = 0.2\n",
    "test_portion = 0.2\n",
    "\n",
    "# Shuffle inds\n",
    "np.random.seed(0)\n",
    "inds = np.arange(len(X))\n",
    "np.random.shuffle(inds)\n",
    "num_val = int(len(X) * val_portion)\n",
    "num_test = int(len(X) * test_portion)\n",
    "\n",
    "# Apply split\n",
    "X_val, Y_val = X[:num_val], Y[:num_val]\n",
    "X_test, Y_test = X[num_val:num_val+num_test], Y[num_val:num_val+num_test]\n",
    "X_train, Y_train = X[num_val+num_test:], Y[num_val+num_test:]\n",
    "del X, Y\n",
    "print(f'train examples = {len(X_train)}, val examples = {len(X_val)}, test examples = {len(X_test)}')"
   ]
  },
  {
   "cell_type": "code",
   "execution_count": 3,
   "id": "322707c9-ad89-4698-a645-6c20ad06ae83",
   "metadata": {},
   "outputs": [],
   "source": [
    "# Train models with random feature subsets\n",
    "np.random.seed(0)\n",
    "num_features = 5\n",
    "num_models = 10\n",
    "models = []\n",
    "for _ in range(num_models):\n",
    "    # Generate feature mask\n",
    "    inds = np.random.choice(X_train.shape[1], num_features, replace=False)\n",
    "    mask = np.zeros(X_train.shape[1])\n",
    "    mask[inds] = 1\n",
    "    \n",
    "    # Train model\n",
    "    model = Ridge(alpha=0.1)\n",
    "    model.fit(X_train * mask, Y_train)\n",
    "    models.append(model)"
   ]
  },
  {
   "cell_type": "code",
   "execution_count": 4,
   "id": "1d9fc896-9485-4d3c-b4eb-6c1b5e156926",
   "metadata": {},
   "outputs": [
    {
     "name": "stdout",
     "output_type": "stream",
     "text": [
      "Train MSE = 55.81, train MAE = 5.25, val MSE = 35.13, val MAE = 4.64\n",
      "Train MSE = 43.33, train MAE = 4.49, val MSE = 13.49, val MAE = 3.01\n",
      "Train MSE = 54.35, train MAE = 5.26, val MSE = 23.84, val MAE = 3.71\n",
      "Train MSE = 44.18, train MAE = 4.48, val MSE = 13.97, val MAE = 2.91\n",
      "Train MSE = 46.61, train MAE = 4.54, val MSE = 10.85, val MAE = 2.69\n",
      "Train MSE = 35.67, train MAE = 4.33, val MSE = 10.87, val MAE = 2.80\n",
      "Train MSE = 34.64, train MAE = 4.26, val MSE = 23.73, val MAE = 3.82\n",
      "Train MSE = 54.58, train MAE = 5.20, val MSE = 35.56, val MAE = 4.66\n",
      "Train MSE = 33.65, train MAE = 4.09, val MSE = 17.39, val MAE = 3.25\n",
      "Train MSE = 58.46, train MAE = 5.43, val MSE = 36.31, val MAE = 4.61\n"
     ]
    }
   ],
   "source": [
    "# Calculate performance metrics for each model\n",
    "for model in models:\n",
    "    # Training performance\n",
    "    preds = model.predict(X_train)\n",
    "    train_mse = utils.mean_squared_error(preds, Y_train)\n",
    "    train_mae = utils.mean_absolute_error(preds, Y_train)\n",
    "\n",
    "    # Validation performance\n",
    "    preds = model.predict(X_val)\n",
    "    val_mse = utils.mean_squared_error(preds, Y_val)\n",
    "    val_mae = utils.mean_absolute_error(preds, Y_val)\n",
    "    print(f'Train MSE = {train_mse:.2f}, train MAE = {train_mae:.2f}, val MSE = {val_mse:.2f}, val MAE = {val_mae:.2f}')"
   ]
  },
  {
   "cell_type": "code",
   "execution_count": 5,
   "id": "1411b029-975e-467e-bd0c-7c1c523e5b4a",
   "metadata": {},
   "outputs": [],
   "source": [
    "# Aggregate validation and test predictions\n",
    "val_preds = {f'Ridge ({i})': model.predict(X_val) for i, model in enumerate(models)}\n",
    "test_preds = {f'Ridge ({i})': model.predict(X_test) for i, model in enumerate(models)}\n",
    "\n",
    "# Evaluate models in isolation\n",
    "val_mse = {name: utils.mean_squared_error(preds, Y_val) for name, preds in val_preds.items()}\n",
    "val_mae = {name: utils.mean_absolute_error(preds, Y_val) for name, preds in val_preds.items()}\n",
    "test_mse = {name: utils.mean_squared_error(preds, Y_test) for name, preds in test_preds.items()}\n",
    "test_mae = {name: utils.mean_absolute_error(preds, Y_test) for name, preds in test_preds.items()}"
   ]
  },
  {
   "cell_type": "markdown",
   "id": "cc59ccb4-f002-43a1-9123-5b6366f116fc",
   "metadata": {},
   "source": [
    "# Try SQP solver"
   ]
  },
  {
   "cell_type": "code",
   "execution_count": 6,
   "id": "611280cf-addf-4ff8-9524-73ddf87051b2",
   "metadata": {},
   "outputs": [],
   "source": [
    "from ensemble import utils\n",
    "from ensemble.sqp_solvers import solve_regressor_mse\n",
    "from ensemble.sqp_solvers import regressor_mse_helper"
   ]
  },
  {
   "cell_type": "code",
   "execution_count": 7,
   "id": "1f64ae3b-31f5-4987-9d66-957e2c6db7a1",
   "metadata": {},
   "outputs": [
    {
     "name": "stdout",
     "output_type": "stream",
     "text": [
      "-----------------------------------------------------------------\n",
      "           OSQP v0.6.2  -  Operator Splitting QP Solver\n",
      "              (c) Bartolomeo Stellato,  Goran Banjac\n",
      "        University of Oxford  -  Stanford University 2021\n",
      "-----------------------------------------------------------------\n",
      "problem:  variables n = 10, constraints m = 11\n",
      "          nnz(P) + nnz(A) = 75\n",
      "settings: linear system solver = qdldl,\n",
      "          eps_abs = 1.0e-03, eps_rel = 1.0e-08,\n",
      "          eps_prim_inf = 1.0e-04, eps_dual_inf = 1.0e-04,\n",
      "          rho = 1.00e-01 (adaptive),\n",
      "          sigma = 1.00e-06, alpha = 1.60, max_iter = 4000\n",
      "          check_termination: on (interval 25),\n",
      "          scaling: on, scaled_termination: off\n",
      "          warm start: on, polish: off, time_limit: off\n",
      "\n",
      "iter   objective    pri res    dua res    rho        time\n",
      "   1  -5.5192e+02   9.98e-01   1.14e+08   1.00e-01   2.20e-04s\n",
      " 200  -5.3095e+04   1.31e-06   1.75e-01   8.72e-03   5.78e-04s\n",
      " 325  -5.3095e+04   5.95e-09   7.93e-04   8.72e-03   9.11e-04s\n",
      "\n",
      "status:               solved\n",
      "number of iterations: 325\n",
      "optimal objective:    -53094.5344\n",
      "run time:             1.17e-03s\n",
      "optimal rho estimate: 8.26e-03\n",
      "\n",
      "Objective after step 1: 909.8056240357477\n"
     ]
    }
   ],
   "source": [
    "# Solve\n",
    "simplex_weights = solve_regressor_mse(list(val_preds.values()), Y_val, 'simplex', verbose=True)\n",
    "nonneg_weights = solve_regressor_mse(list(val_preds.values()), Y_val, 'nonnegative')\n",
    "unconstrained_weights = solve_regressor_mse(list(val_preds.values()), Y_val, 'none')"
   ]
  },
  {
   "cell_type": "code",
   "execution_count": 8,
   "id": "06ee0466-79dc-4269-8805-94f5a8feae4b",
   "metadata": {},
   "outputs": [
    {
     "data": {
      "image/png": "[encoded data removed]",
      "text/plain": [
       "<Figure size 864x288 with 3 Axes>"
      ]
     },
     "metadata": {
      "needs_background": "light"
     },
     "output_type": "display_data"
    }
   ],
   "source": [
    "# Plot learned weights\n",
    "fig, axarr = plt.subplots(1, 3, figsize=(12, 4))\n",
    "\n",
    "plt.sca(axarr[0])\n",
    "plt.bar(range(len(models)), simplex_weights)\n",
    "plt.xticks(range(len(models)), val_preds.keys(), rotation=45,\n",
    "           rotation_mode='anchor', ha='right')\n",
    "plt.title('Simplex Weights')\n",
    "plt.ylabel('Weights')\n",
    "\n",
    "plt.sca(axarr[1])\n",
    "plt.bar(range(len(models)), nonneg_weights)\n",
    "plt.xticks(range(len(models)), val_preds.keys(), rotation=45,\n",
    "           rotation_mode='anchor', ha='right')\n",
    "plt.title('Nonnegative Weights')\n",
    "\n",
    "plt.sca(axarr[2])\n",
    "plt.bar(range(len(models)), unconstrained_weights)\n",
    "plt.xticks(range(len(models)), val_preds.keys(), rotation=45,\n",
    "           rotation_mode='anchor', ha='right')\n",
    "plt.title('Unconstrained Weights')\n",
    "\n",
    "plt.tight_layout()\n",
    "plt.show()"
   ]
  },
  {
   "cell_type": "markdown",
   "id": "61e9a6fe-b872-4313-8a07-7fc0b9993d1a",
   "metadata": {},
   "source": [
    "# Compare to CVXPY solver\n",
    "\n",
    "- Problem: very different results when using simplex constraints\n",
    "- Both solutions are feasible, but CVXPY solution gets better objective value -> problem must be with SQP implementation"
   ]
  },
  {
   "cell_type": "code",
   "execution_count": 9,
   "id": "eed1b911-8f54-45fc-a476-b2ea8119640a",
   "metadata": {},
   "outputs": [
    {
     "name": "stdout",
     "output_type": "stream",
     "text": [
      "===============================================================================\n",
      "                                     CVXPY                                     \n",
      "                                    v1.1.18                                    \n",
      "===============================================================================\n",
      "(CVXPY) Jul 29 12:05:33 AM: Your problem has 10 variables, 2 constraints, and 0 parameters.\n",
      "(CVXPY) Jul 29 12:05:33 AM: It is compliant with the following grammars: DCP, DQCP\n",
      "(CVXPY) Jul 29 12:05:33 AM: (If you need to solve this problem multiple times, but with different data, consider using parameters.)\n",
      "(CVXPY) Jul 29 12:05:33 AM: CVXPY will first compile your problem; then, it will invoke a numerical solver to obtain a solution.\n",
      "-------------------------------------------------------------------------------\n",
      "                                  Compilation                                  \n",
      "-------------------------------------------------------------------------------\n",
      "(CVXPY) Jul 29 12:05:33 AM: Compiling problem (target solver=ECOS).\n",
      "(CVXPY) Jul 29 12:05:33 AM: Reduction chain: Dcp2Cone -> CvxAttr2Constr -> ConeMatrixStuffing -> ECOS\n",
      "(CVXPY) Jul 29 12:05:33 AM: Applying reduction Dcp2Cone\n",
      "(CVXPY) Jul 29 12:05:33 AM: Applying reduction CvxAttr2Constr\n",
      "(CVXPY) Jul 29 12:05:33 AM: Applying reduction ConeMatrixStuffing\n",
      "(CVXPY) Jul 29 12:05:33 AM: Applying reduction ECOS\n",
      "(CVXPY) Jul 29 12:05:33 AM: Finished problem compilation (took 1.509e-02 seconds).\n",
      "-------------------------------------------------------------------------------\n",
      "                                Numerical solver                               \n",
      "-------------------------------------------------------------------------------\n",
      "(CVXPY) Jul 29 12:05:33 AM: Invoking solver ECOS  to obtain a solution.\n",
      "-------------------------------------------------------------------------------\n",
      "                                    Summary                                    \n",
      "-------------------------------------------------------------------------------\n",
      "(CVXPY) Jul 29 12:05:33 AM: Problem status: optimal\n",
      "(CVXPY) Jul 29 12:05:33 AM: Optimal value: 9.098e+02\n",
      "(CVXPY) Jul 29 12:05:33 AM: Compilation took 1.509e-02 seconds\n",
      "(CVXPY) Jul 29 12:05:33 AM: Solver (including time spent in interface) took 3.539e-03 seconds\n"
     ]
    }
   ],
   "source": [
    "# Get weights from CVXPY solver\n",
    "ensemble = Ensemble('reg:mse', 'simplex')\n",
    "ensemble_simplex_weights = ensemble.solver(list(val_preds.values()), Y_val, 'simplex', verbose=True)\n",
    "ensemble_nonneg_weights = ensemble.solver(list(val_preds.values()), Y_val, 'nonnegative')\n",
    "ensemble_unconstrained_weights = ensemble.solver(list(val_preds.values()), Y_val, 'none')"
   ]
  },
  {
   "cell_type": "code",
   "execution_count": 10,
   "id": "1db4332c-cc3a-40bc-b11b-f17b8f6196a7",
   "metadata": {},
   "outputs": [
    {
     "name": "stdout",
     "output_type": "stream",
     "text": [
      "CVXPY objective value (simplex): 909.8056280648907\n",
      "CVXPY objective value (nonneg): 754.1737750476739\n",
      "CVXPY objective value (unconstrained): 456.581884640887\n",
      "SQP objective value (simplex): 909.8056240357477\n",
      "SQP objective value (nonneg): 754.1737705619641\n",
      "SQP objective value (unconstrained): 456.58188464088676\n"
     ]
    }
   ],
   "source": [
    "# Consistency between CVXPY and SQP\n",
    "print(f'CVXPY objective value (simplex): {regressor_mse_helper(list(val_preds.values()), Y_val, ensemble_simplex_weights)[0]}')\n",
    "print(f'CVXPY objective value (nonneg): {regressor_mse_helper(list(val_preds.values()), Y_val, ensemble_nonneg_weights)[0]}')\n",
    "print(f'CVXPY objective value (unconstrained): {regressor_mse_helper(list(val_preds.values()), Y_val, ensemble_unconstrained_weights)[0]}')\n",
    "print(f'SQP objective value (simplex): {regressor_mse_helper(list(val_preds.values()), Y_val, simplex_weights)[0]}')\n",
    "print(f'SQP objective value (nonneg): {regressor_mse_helper(list(val_preds.values()), Y_val, nonneg_weights)[0]}')\n",
    "print(f'SQP objective value (unconstrained): {regressor_mse_helper(list(val_preds.values()), Y_val, unconstrained_weights)[0]}')"
   ]
  },
  {
   "cell_type": "code",
   "execution_count": 11,
   "id": "9e1bfe87-e4a7-41f4-b1d7-7ad853425f5e",
   "metadata": {},
   "outputs": [
    {
     "data": {
      "image/png": "[encoded data removed]",
      "text/plain": [
       "<Figure size 576x288 with 2 Axes>"
      ]
     },
     "metadata": {
      "needs_background": "light"
     },
     "output_type": "display_data"
    }
   ],
   "source": [
    "# Plot learned weights\n",
    "fig, axarr = plt.subplots(1, 2, figsize=(8, 4))\n",
    "\n",
    "plt.sca(axarr[0])\n",
    "plt.bar(range(len(models)), simplex_weights)\n",
    "plt.xticks(range(len(models)), val_preds.keys(), rotation=45,\n",
    "           rotation_mode='anchor', ha='right')\n",
    "plt.title('Simplex Weights')\n",
    "plt.ylabel('Weights')\n",
    "\n",
    "plt.sca(axarr[1])\n",
    "plt.bar(range(len(models)), ensemble_simplex_weights)\n",
    "plt.xticks(range(len(models)), val_preds.keys(), rotation=45,\n",
    "           rotation_mode='anchor', ha='right')\n",
    "plt.title('Ensemble Simplex Weights')\n",
    "\n",
    "plt.tight_layout()\n",
    "plt.show()"
   ]
  },
  {
   "cell_type": "code",
   "execution_count": null,
   "id": "104c14e9-1ba5-493d-a23f-6272ab783f33",
   "metadata": {},
   "outputs": [],
   "source": []
  }
 ],
 "metadata": {
  "kernelspec": {
   "display_name": "Python 3",
   "language": "python",
   "name": "python3"
  },
  "language_info": {
   "codemirror_mode": {
    "name": "ipython",
    "version": 3
   },
   "file_extension": ".py",
   "mimetype": "text/x-python",
   "name": "python",
   "nbconvert_exporter": "python",
   "pygments_lexer": "ipython3",
   "version": "3.6.13"
  }
 },
 "nbformat": 4,
 "nbformat_minor": 5
}
