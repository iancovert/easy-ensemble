{
 "cells": [
  {
   "cell_type": "code",
   "execution_count": 1,
   "id": "6369f1d2-8a56-49c9-9e80-fcb4f4025ddb",
   "metadata": {},
   "outputs": [],
   "source": [
    "import numpy as np\n",
    "import lightgbm as lgb\n",
    "import matplotlib.pyplot as plt\n",
    "from shap.datasets import adult\n",
    "from ensemble import utils, Ensemble\n",
    "from sklearn.ensemble import GradientBoostingClassifier"
   ]
  },
  {
   "cell_type": "code",
   "execution_count": 2,
   "id": "843bad04-508a-473e-b02f-9d3ada696b69",
   "metadata": {},
   "outputs": [
    {
     "name": "stdout",
     "output_type": "stream",
     "text": [
      "X.shape = (32561, 12), Y.shape = (32561,)\n",
      "train examples = 19537, val examples = 6512, test examples = 6512\n"
     ]
    }
   ],
   "source": [
    "# Load data\n",
    "X, Y = adult()\n",
    "X = X.values\n",
    "Y = Y.astype(int)\n",
    "print(f'X.shape = {X.shape}, Y.shape = {Y.shape}')\n",
    "\n",
    "# Split into training, val, test\n",
    "val_portion = 0.2\n",
    "test_portion = 0.2\n",
    "\n",
    "# Shuffle inds\n",
    "np.random.seed(0)\n",
    "inds = np.arange(len(X))\n",
    "np.random.shuffle(inds)\n",
    "num_val = int(len(X) * val_portion)\n",
    "num_test = int(len(X) * test_portion)\n",
    "\n",
    "# Apply split\n",
    "X_val, Y_val = X[:num_val], Y[:num_val]\n",
    "X_test, Y_test = X[num_val:num_val+num_test], Y[num_val:num_val+num_test]\n",
    "X_train, Y_train = X[num_val+num_test:], Y[num_val+num_test:]\n",
    "del X, Y\n",
    "print(f'train examples = {len(X_train)}, val examples = {len(X_val)}, test examples = {len(X_test)}')"
   ]
  },
  {
   "cell_type": "code",
   "execution_count": 3,
   "id": "6c8a1488-1f90-48e0-8bfa-c772a52b8442",
   "metadata": {},
   "outputs": [],
   "source": [
    "# Train models\n",
    "np.random.seed(0)\n",
    "num_features = 5\n",
    "num_models = 10\n",
    "models = []\n",
    "for seed in range(num_models):\n",
    "    # Generate feature mask\n",
    "    inds = np.random.choice(X_train.shape[1], num_features, replace=False)\n",
    "    mask = np.zeros(X_train.shape[1])\n",
    "    mask[inds] = 1\n",
    "    \n",
    "    # Create sklearn classifiers\n",
    "    model = GradientBoostingClassifier(n_estimators=200, max_depth=3, random_state=seed)\n",
    "    model.fit(X_train * mask, Y_train)\n",
    "    models.append(model)"
   ]
  },
  {
   "cell_type": "code",
   "execution_count": 4,
   "id": "2c1a1c4f-54b8-4b42-a703-4ce59d645205",
   "metadata": {},
   "outputs": [
    {
     "name": "stdout",
     "output_type": "stream",
     "text": [
      "Train loss = 0.43, train acc = 79.90, val loss = 0.45, val acc = 79.13\n",
      "Train loss = 0.34, train acc = 84.13, val loss = 0.35, val acc = 82.94\n",
      "Train loss = 0.42, train acc = 80.59, val loss = 0.45, val acc = 79.58\n",
      "Train loss = 0.29, train acc = 86.86, val loss = 0.31, val acc = 85.96\n",
      "Train loss = 0.38, train acc = 80.89, val loss = 0.38, val acc = 80.59\n",
      "Train loss = 0.30, train acc = 86.32, val loss = 0.32, val acc = 85.47\n",
      "Train loss = 0.34, train acc = 84.14, val loss = 0.36, val acc = 83.31\n",
      "Train loss = 0.42, train acc = 80.85, val loss = 0.44, val acc = 79.48\n",
      "Train loss = 0.41, train acc = 80.49, val loss = 0.42, val acc = 79.58\n",
      "Train loss = 0.41, train acc = 83.06, val loss = 0.42, val acc = 82.92\n"
     ]
    }
   ],
   "source": [
    "# Calculate performance metrics for each model\n",
    "for model in models:\n",
    "    # Training performance\n",
    "    preds = model.predict_proba(X_train)\n",
    "    train_loss = utils.log_loss(preds, Y_train)\n",
    "    train_acc = utils.accuracy(preds, Y_train)\n",
    "\n",
    "    # Validation performance\n",
    "    preds = model.predict_proba(X_val)\n",
    "    val_loss = utils.log_loss(preds, Y_val)\n",
    "    val_acc = utils.accuracy(preds, Y_val)\n",
    "    print(f'Train loss = {train_loss:.2f}, train acc = {100 * train_acc:.2f}, val loss = {val_loss:.2f}, val acc = {100 * val_acc:.2f}')"
   ]
  },
  {
   "cell_type": "code",
   "execution_count": 5,
   "id": "010ba364-c540-4a97-bf4d-11ec00976080",
   "metadata": {},
   "outputs": [],
   "source": [
    "# Aggregate validation and test predictions\n",
    "val_preds = {f'LGBM ({i})': model.predict_proba(X_val) for i, model in enumerate(models)}\n",
    "test_preds = {f'LGBM ({i})': model.predict_proba(X_test) for i, model in enumerate(models)}\n",
    "\n",
    "# Evaluate models in isolation\n",
    "val_loss = {name: utils.log_loss(preds, Y_val) for name, preds in val_preds.items()}\n",
    "val_acc = {name: utils.accuracy(preds, Y_val) for name, preds in val_preds.items()}\n",
    "test_loss = {name: utils.log_loss(preds, Y_test) for name, preds in test_preds.items()}\n",
    "test_acc = {name: utils.accuracy(preds, Y_test) for name, preds in test_preds.items()}"
   ]
  },
  {
   "cell_type": "markdown",
   "id": "45777346-15a6-4102-bb25-5286348f370a",
   "metadata": {},
   "source": [
    "# Try SQP solver"
   ]
  },
  {
   "cell_type": "code",
   "execution_count": 11,
   "id": "5e5c0d2c-6c9f-46ef-840f-91e65d9a1b78",
   "metadata": {},
   "outputs": [],
   "source": [
    "from ensemble import utils\n",
    "from ensemble.sqp_solvers import solve_multiclass_logloss_probs, solve_multiclass_logloss_logits\n",
    "from ensemble.sqp_solvers import multiclass_logloss_logits_helper, multiclass_logloss_probs_helper"
   ]
  },
  {
   "cell_type": "code",
   "execution_count": 7,
   "id": "90999fbf-4d82-4fdd-91c1-0e6055c8cce7",
   "metadata": {},
   "outputs": [],
   "source": [
    "# Probs version\n",
    "probs_weights = solve_multiclass_logloss_probs(list(val_preds.values()), Y_val)\n",
    "probs_weights = solve_multiclass_logloss_probs([preds[:1000] for preds in val_preds.values()], Y_val[:1000])\n",
    "\n",
    "# # Logits version\n",
    "logit_preds = [utils.stable_logit(preds) for preds in val_preds.values()]\n",
    "nonneg_weights = solve_multiclass_logloss_logits(logit_preds, Y_val, 'nonnegative')\n",
    "simplex_weights = solve_multiclass_logloss_logits(logit_preds, Y_val, 'simplex')"
   ]
  },
  {
   "cell_type": "code",
   "execution_count": 8,
   "id": "43c1f8ec-1582-44b6-8b88-83a5ffb0c25c",
   "metadata": {},
   "outputs": [
    {
     "data": {
      "image/png": "[encoded data removed]",
      "text/plain": [
       "<Figure size 864x288 with 3 Axes>"
      ]
     },
     "metadata": {
      "needs_background": "light"
     },
     "output_type": "display_data"
    }
   ],
   "source": [
    "# Plot learned weights\n",
    "fig, axarr = plt.subplots(1, 3, figsize=(12, 4))\n",
    "\n",
    "plt.sca(axarr[0])\n",
    "plt.bar(range(len(models)), probs_weights)\n",
    "plt.xticks(range(len(models)), val_preds.keys(), rotation=45,\n",
    "           rotation_mode='anchor', ha='right')\n",
    "plt.title('Probs Weights')\n",
    "plt.ylabel('Weights')\n",
    "\n",
    "plt.sca(axarr[1])\n",
    "plt.bar(range(len(models)), nonneg_weights)\n",
    "plt.xticks(range(len(models)), val_preds.keys(), rotation=45,\n",
    "           rotation_mode='anchor', ha='right')\n",
    "plt.title('Learned Ensemble Weights')\n",
    "plt.title('Logit Weights (Nonnegative)')\n",
    "\n",
    "plt.sca(axarr[2])\n",
    "plt.bar(range(len(models)), simplex_weights)\n",
    "plt.xticks(range(len(models)), val_preds.keys(), rotation=45,\n",
    "           rotation_mode='anchor', ha='right')\n",
    "plt.title('Logit Weights (Simplex)')\n",
    "plt.ylabel('Weights')\n",
    "\n",
    "plt.tight_layout()\n",
    "plt.show()"
   ]
  },
  {
   "cell_type": "markdown",
   "id": "f091ba1d-e408-4807-aa57-92b4870c41a1",
   "metadata": {},
   "source": [
    "# Compare to CVXPY solver"
   ]
  },
  {
   "cell_type": "code",
   "execution_count": 9,
   "id": "be67d9b0-7a68-45a8-8704-70d3874c1640",
   "metadata": {},
   "outputs": [
    {
     "name": "stdout",
     "output_type": "stream",
     "text": [
      "===============================================================================\n",
      "                                     CVXPY                                     \n",
      "                                    v1.1.18                                    \n",
      "===============================================================================\n",
      "(CVXPY) Jul 30 12:13:13 PM: Your problem has 10 variables, 2 constraints, and 0 parameters.\n",
      "(CVXPY) Jul 30 12:13:13 PM: It is compliant with the following grammars: DCP, DQCP\n",
      "(CVXPY) Jul 30 12:13:13 PM: (If you need to solve this problem multiple times, but with different data, consider using parameters.)\n",
      "(CVXPY) Jul 30 12:13:13 PM: CVXPY will first compile your problem; then, it will invoke a numerical solver to obtain a solution.\n",
      "-------------------------------------------------------------------------------\n",
      "                                  Compilation                                  \n",
      "-------------------------------------------------------------------------------\n",
      "(CVXPY) Jul 30 12:13:13 PM: Compiling problem (target solver=ECOS).\n",
      "(CVXPY) Jul 30 12:13:13 PM: Reduction chain: Dcp2Cone -> CvxAttr2Constr -> ConeMatrixStuffing -> ECOS\n",
      "(CVXPY) Jul 30 12:13:13 PM: Applying reduction Dcp2Cone\n",
      "(CVXPY) Jul 30 12:13:13 PM: Applying reduction CvxAttr2Constr\n",
      "(CVXPY) Jul 30 12:13:13 PM: Applying reduction ConeMatrixStuffing\n",
      "(CVXPY) Jul 30 12:13:13 PM: Applying reduction ECOS\n",
      "(CVXPY) Jul 30 12:13:13 PM: Finished problem compilation (took 1.945e-02 seconds).\n",
      "-------------------------------------------------------------------------------\n",
      "                                Numerical solver                               \n",
      "-------------------------------------------------------------------------------\n",
      "(CVXPY) Jul 30 12:13:13 PM: Invoking solver ECOS  to obtain a solution.\n",
      "-------------------------------------------------------------------------------\n",
      "                                    Summary                                    \n",
      "-------------------------------------------------------------------------------\n",
      "(CVXPY) Jul 30 12:13:14 PM: Problem status: optimal\n",
      "(CVXPY) Jul 30 12:13:14 PM: Optimal value: 2.983e+02\n",
      "(CVXPY) Jul 30 12:13:14 PM: Compilation took 1.945e-02 seconds\n",
      "(CVXPY) Jul 30 12:13:14 PM: Solver (including time spent in interface) took 7.596e-02 seconds\n",
      "===============================================================================\n",
      "                                     CVXPY                                     \n",
      "                                    v1.1.18                                    \n",
      "===============================================================================\n",
      "(CVXPY) Jul 30 12:13:14 PM: Your problem has 10 variables, 2 constraints, and 0 parameters.\n",
      "(CVXPY) Jul 30 12:13:14 PM: It is compliant with the following grammars: DCP, DQCP\n",
      "(CVXPY) Jul 30 12:13:14 PM: (If you need to solve this problem multiple times, but with different data, consider using parameters.)\n",
      "(CVXPY) Jul 30 12:13:14 PM: CVXPY will first compile your problem; then, it will invoke a numerical solver to obtain a solution.\n",
      "-------------------------------------------------------------------------------\n",
      "                                  Compilation                                  \n",
      "-------------------------------------------------------------------------------\n",
      "(CVXPY) Jul 30 12:13:14 PM: Compiling problem (target solver=ECOS).\n",
      "(CVXPY) Jul 30 12:13:14 PM: Reduction chain: Dcp2Cone -> CvxAttr2Constr -> ConeMatrixStuffing -> ECOS\n",
      "(CVXPY) Jul 30 12:13:14 PM: Applying reduction Dcp2Cone\n",
      "(CVXPY) Jul 30 12:13:14 PM: Applying reduction CvxAttr2Constr\n",
      "(CVXPY) Jul 30 12:13:14 PM: Applying reduction ConeMatrixStuffing\n",
      "(CVXPY) Jul 30 12:13:14 PM: Applying reduction ECOS\n",
      "(CVXPY) Jul 30 12:13:14 PM: Finished problem compilation (took 1.137e-01 seconds).\n",
      "-------------------------------------------------------------------------------\n",
      "                                Numerical solver                               \n",
      "-------------------------------------------------------------------------------\n",
      "(CVXPY) Jul 30 12:13:14 PM: Invoking solver ECOS  to obtain a solution.\n",
      "-------------------------------------------------------------------------------\n",
      "                                    Summary                                    \n",
      "-------------------------------------------------------------------------------\n",
      "(CVXPY) Jul 30 12:13:15 PM: Problem status: optimal\n",
      "(CVXPY) Jul 30 12:13:15 PM: Optimal value: 2.098e+03\n",
      "(CVXPY) Jul 30 12:13:15 PM: Compilation took 1.137e-01 seconds\n",
      "(CVXPY) Jul 30 12:13:15 PM: Solver (including time spent in interface) took 1.214e+00 seconds\n"
     ]
    }
   ],
   "source": [
    "# Get weights from CVXPY solver\n",
    "ensemble = Ensemble('multi:logloss_probs', 'simplex')\n",
    "ensemble_probs_weights = ensemble.solver([preds[:1000] for preds in val_preds.values()], Y_val[:1000], 'simplex', verbose=True)\n",
    "\n",
    "# # Logits version\n",
    "ensemble = Ensemble('multi:logloss_logits', 'simplex')\n",
    "ensemble_simplex_weights = ensemble.solver(logit_preds, Y_val, 'simplex', verbose=True)\n",
    "ensemble_nonneg_weights = ensemble.solver(logit_preds, Y_val, 'nonnegative')"
   ]
  },
  {
   "cell_type": "code",
   "execution_count": 12,
   "id": "22ed8038-1f89-4c8a-9e6c-45952ee6b450",
   "metadata": {},
   "outputs": [
    {
     "name": "stdout",
     "output_type": "stream",
     "text": [
      "CVXPY objective value (probs): 1972.6110234297776\n",
      "SQP objective value (probs): 1972.6115284328225\n",
      "CVXPY objective value (simplex): 2097.906819401247\n",
      "CVXPY objective value (nonneg): 1918.555604562258\n",
      "SQP objective value (simplex): 2097.906821043045\n",
      "SQP objective value (nonneg): 1918.5556090634464\n"
     ]
    }
   ],
   "source": [
    "# Consistency between CVXPY and SQP\n",
    "print(f'CVXPY objective value (probs): {multiclass_logloss_probs_helper(list(val_preds.values()), Y_val, ensemble_probs_weights)[0]}')\n",
    "print(f'SQP objective value (probs): {multiclass_logloss_probs_helper(list(val_preds.values()), Y_val, probs_weights)[0]}')\n",
    "\n",
    "# Logits version\n",
    "print(f'CVXPY objective value (simplex): {multiclass_logloss_logits_helper(logit_preds, Y_val, ensemble_simplex_weights)[0]}')\n",
    "print(f'CVXPY objective value (nonneg): {multiclass_logloss_logits_helper(logit_preds, Y_val, ensemble_nonneg_weights)[0]}')\n",
    "print(f'SQP objective value (simplex): {multiclass_logloss_logits_helper(logit_preds, Y_val, simplex_weights)[0]}')\n",
    "print(f'SQP objective value (nonneg): {multiclass_logloss_logits_helper(logit_preds, Y_val, nonneg_weights)[0]}')"
   ]
  },
  {
   "cell_type": "markdown",
   "id": "0148b49c-05a8-4610-85be-0b532fddcbd7",
   "metadata": {},
   "source": [
    "# Confirm CVXPY version with probs still doesn't work"
   ]
  },
  {
   "cell_type": "code",
   "execution_count": 13,
   "id": "c448fd3b-5c4a-4a73-a7b6-b4f0ee9e642f",
   "metadata": {},
   "outputs": [
    {
     "ename": "SolverError",
     "evalue": "Solver 'ECOS' failed. Try another solver, or solve with verbose=True for more information.",
     "output_type": "error",
     "traceback": [
      "\u001b[0;31m---------------------------------------------------------------------------\u001b[0m",
      "\u001b[0;31mSolverError\u001b[0m                               Traceback (most recent call last)",
      "\u001b[0;32m<ipython-input-13-37e4858dc789>\u001b[0m in \u001b[0;36m<module>\u001b[0;34m\u001b[0m\n\u001b[1;32m      1\u001b[0m \u001b[0mensemble\u001b[0m \u001b[0;34m=\u001b[0m \u001b[0mEnsemble\u001b[0m\u001b[0;34m(\u001b[0m\u001b[0;34m'multi:logloss_probs'\u001b[0m\u001b[0;34m,\u001b[0m \u001b[0;34m'simplex'\u001b[0m\u001b[0;34m)\u001b[0m\u001b[0;34m\u001b[0m\u001b[0;34m\u001b[0m\u001b[0m\n\u001b[0;32m----> 2\u001b[0;31m \u001b[0mensemble\u001b[0m\u001b[0;34m.\u001b[0m\u001b[0mfit\u001b[0m\u001b[0;34m(\u001b[0m\u001b[0mlist\u001b[0m\u001b[0;34m(\u001b[0m\u001b[0mval_preds\u001b[0m\u001b[0;34m.\u001b[0m\u001b[0mvalues\u001b[0m\u001b[0;34m(\u001b[0m\u001b[0;34m)\u001b[0m\u001b[0;34m)\u001b[0m\u001b[0;34m,\u001b[0m \u001b[0mY_val\u001b[0m\u001b[0;34m)\u001b[0m\u001b[0;34m\u001b[0m\u001b[0;34m\u001b[0m\u001b[0m\n\u001b[0m",
      "\u001b[0;32m~/anaconda3/envs/numbaenv/lib/python3.6/site-packages/ensemble/core.py\u001b[0m in \u001b[0;36mfit\u001b[0;34m(self, preds, targets)\u001b[0m\n\u001b[1;32m     79\u001b[0m \u001b[0;34m\u001b[0m\u001b[0m\n\u001b[1;32m     80\u001b[0m         \u001b[0;31m# Find optimal weights\u001b[0m\u001b[0;34m\u001b[0m\u001b[0;34m\u001b[0m\u001b[0;34m\u001b[0m\u001b[0m\n\u001b[0;32m---> 81\u001b[0;31m         \u001b[0mself\u001b[0m\u001b[0;34m.\u001b[0m\u001b[0mweights\u001b[0m \u001b[0;34m=\u001b[0m \u001b[0mself\u001b[0m\u001b[0;34m.\u001b[0m\u001b[0msolver\u001b[0m\u001b[0;34m(\u001b[0m\u001b[0mlist\u001b[0m\u001b[0;34m(\u001b[0m\u001b[0mpreds\u001b[0m\u001b[0;34m)\u001b[0m\u001b[0;34m,\u001b[0m \u001b[0mtargets\u001b[0m\u001b[0;34m,\u001b[0m \u001b[0mself\u001b[0m\u001b[0;34m.\u001b[0m\u001b[0mconstraints\u001b[0m\u001b[0;34m,\u001b[0m \u001b[0mself\u001b[0m\u001b[0;34m.\u001b[0m\u001b[0mverbose\u001b[0m\u001b[0;34m)\u001b[0m\u001b[0;34m\u001b[0m\u001b[0;34m\u001b[0m\u001b[0m\n\u001b[0m\u001b[1;32m     82\u001b[0m         \u001b[0;32mreturn\u001b[0m \u001b[0mself\u001b[0m\u001b[0;34m\u001b[0m\u001b[0;34m\u001b[0m\u001b[0m\n\u001b[1;32m     83\u001b[0m \u001b[0;34m\u001b[0m\u001b[0m\n",
      "\u001b[0;32m~/anaconda3/envs/numbaenv/lib/python3.6/site-packages/ensemble/cvxpy_solvers.py\u001b[0m in \u001b[0;36msolve_multiclass_logloss_probs\u001b[0;34m(preds, targets, constraints, verbose)\u001b[0m\n\u001b[1;32m    207\u001b[0m     \u001b[0;31m# Solve problem\u001b[0m\u001b[0;34m\u001b[0m\u001b[0;34m\u001b[0m\u001b[0;34m\u001b[0m\u001b[0m\n\u001b[1;32m    208\u001b[0m     \u001b[0mprob\u001b[0m \u001b[0;34m=\u001b[0m \u001b[0mcp\u001b[0m\u001b[0;34m.\u001b[0m\u001b[0mProblem\u001b[0m\u001b[0;34m(\u001b[0m\u001b[0mcp\u001b[0m\u001b[0;34m.\u001b[0m\u001b[0mMinimize\u001b[0m\u001b[0;34m(\u001b[0m\u001b[0mobjective\u001b[0m\u001b[0;34m)\u001b[0m\u001b[0;34m,\u001b[0m \u001b[0mconstraints\u001b[0m\u001b[0;34m)\u001b[0m\u001b[0;34m\u001b[0m\u001b[0;34m\u001b[0m\u001b[0m\n\u001b[0;32m--> 209\u001b[0;31m     \u001b[0mprob\u001b[0m\u001b[0;34m.\u001b[0m\u001b[0msolve\u001b[0m\u001b[0;34m(\u001b[0m\u001b[0msolver\u001b[0m\u001b[0;34m=\u001b[0m\u001b[0;34m'ECOS'\u001b[0m\u001b[0;34m,\u001b[0m \u001b[0mverbose\u001b[0m\u001b[0;34m=\u001b[0m\u001b[0mverbose\u001b[0m\u001b[0;34m)\u001b[0m\u001b[0;34m\u001b[0m\u001b[0;34m\u001b[0m\u001b[0m\n\u001b[0m\u001b[1;32m    210\u001b[0m     \u001b[0;32mreturn\u001b[0m \u001b[0mw\u001b[0m\u001b[0;34m.\u001b[0m\u001b[0mvalue\u001b[0m\u001b[0;34m\u001b[0m\u001b[0;34m\u001b[0m\u001b[0m\n\u001b[1;32m    211\u001b[0m \u001b[0;34m\u001b[0m\u001b[0m\n",
      "\u001b[0;32m~/anaconda3/envs/numbaenv/lib/python3.6/site-packages/cvxpy/problems/problem.py\u001b[0m in \u001b[0;36msolve\u001b[0;34m(self, *args, **kwargs)\u001b[0m\n\u001b[1;32m    471\u001b[0m         \u001b[0;32melse\u001b[0m\u001b[0;34m:\u001b[0m\u001b[0;34m\u001b[0m\u001b[0;34m\u001b[0m\u001b[0m\n\u001b[1;32m    472\u001b[0m             \u001b[0msolve_func\u001b[0m \u001b[0;34m=\u001b[0m \u001b[0mProblem\u001b[0m\u001b[0;34m.\u001b[0m\u001b[0m_solve\u001b[0m\u001b[0;34m\u001b[0m\u001b[0;34m\u001b[0m\u001b[0m\n\u001b[0;32m--> 473\u001b[0;31m         \u001b[0;32mreturn\u001b[0m \u001b[0msolve_func\u001b[0m\u001b[0;34m(\u001b[0m\u001b[0mself\u001b[0m\u001b[0;34m,\u001b[0m \u001b[0;34m*\u001b[0m\u001b[0margs\u001b[0m\u001b[0;34m,\u001b[0m \u001b[0;34m**\u001b[0m\u001b[0mkwargs\u001b[0m\u001b[0;34m)\u001b[0m\u001b[0;34m\u001b[0m\u001b[0;34m\u001b[0m\u001b[0m\n\u001b[0m\u001b[1;32m    474\u001b[0m \u001b[0;34m\u001b[0m\u001b[0m\n\u001b[1;32m    475\u001b[0m     \u001b[0;34m@\u001b[0m\u001b[0mclassmethod\u001b[0m\u001b[0;34m\u001b[0m\u001b[0;34m\u001b[0m\u001b[0m\n",
      "\u001b[0;32m~/anaconda3/envs/numbaenv/lib/python3.6/site-packages/cvxpy/problems/problem.py\u001b[0m in \u001b[0;36m_solve\u001b[0;34m(self, solver, warm_start, verbose, gp, qcp, requires_grad, enforce_dpp, **kwargs)\u001b[0m\n\u001b[1;32m    977\u001b[0m         \u001b[0mend\u001b[0m \u001b[0;34m=\u001b[0m \u001b[0mtime\u001b[0m\u001b[0;34m.\u001b[0m\u001b[0mtime\u001b[0m\u001b[0;34m(\u001b[0m\u001b[0;34m)\u001b[0m\u001b[0;34m\u001b[0m\u001b[0;34m\u001b[0m\u001b[0m\n\u001b[1;32m    978\u001b[0m         \u001b[0mself\u001b[0m\u001b[0;34m.\u001b[0m\u001b[0m_solve_time\u001b[0m \u001b[0;34m=\u001b[0m \u001b[0mend\u001b[0m \u001b[0;34m-\u001b[0m \u001b[0mstart\u001b[0m\u001b[0;34m\u001b[0m\u001b[0;34m\u001b[0m\u001b[0m\n\u001b[0;32m--> 979\u001b[0;31m         \u001b[0mself\u001b[0m\u001b[0;34m.\u001b[0m\u001b[0munpack_results\u001b[0m\u001b[0;34m(\u001b[0m\u001b[0msolution\u001b[0m\u001b[0;34m,\u001b[0m \u001b[0msolving_chain\u001b[0m\u001b[0;34m,\u001b[0m \u001b[0minverse_data\u001b[0m\u001b[0;34m)\u001b[0m\u001b[0;34m\u001b[0m\u001b[0;34m\u001b[0m\u001b[0m\n\u001b[0m\u001b[1;32m    980\u001b[0m         \u001b[0;32mif\u001b[0m \u001b[0mverbose\u001b[0m\u001b[0;34m:\u001b[0m\u001b[0;34m\u001b[0m\u001b[0;34m\u001b[0m\u001b[0m\n\u001b[1;32m    981\u001b[0m             \u001b[0mprint\u001b[0m\u001b[0;34m(\u001b[0m\u001b[0m_FOOTER\u001b[0m\u001b[0;34m)\u001b[0m\u001b[0;34m\u001b[0m\u001b[0;34m\u001b[0m\u001b[0m\n",
      "\u001b[0;32m~/anaconda3/envs/numbaenv/lib/python3.6/site-packages/cvxpy/problems/problem.py\u001b[0m in \u001b[0;36munpack_results\u001b[0;34m(self, solution, chain, inverse_data)\u001b[0m\n\u001b[1;32m   1304\u001b[0m             raise error.SolverError(\n\u001b[1;32m   1305\u001b[0m                     \u001b[0;34m\"Solver '%s' failed. \"\u001b[0m \u001b[0;34m%\u001b[0m \u001b[0mchain\u001b[0m\u001b[0;34m.\u001b[0m\u001b[0msolver\u001b[0m\u001b[0;34m.\u001b[0m\u001b[0mname\u001b[0m\u001b[0;34m(\u001b[0m\u001b[0;34m)\u001b[0m \u001b[0;34m+\u001b[0m\u001b[0;34m\u001b[0m\u001b[0;34m\u001b[0m\u001b[0m\n\u001b[0;32m-> 1306\u001b[0;31m                     \u001b[0;34m\"Try another solver, or solve with verbose=True for more \"\u001b[0m\u001b[0;34m\u001b[0m\u001b[0;34m\u001b[0m\u001b[0m\n\u001b[0m\u001b[1;32m   1307\u001b[0m                     \"information.\")\n\u001b[1;32m   1308\u001b[0m \u001b[0;34m\u001b[0m\u001b[0m\n",
      "\u001b[0;31mSolverError\u001b[0m: Solver 'ECOS' failed. Try another solver, or solve with verbose=True for more information."
     ]
    }
   ],
   "source": [
    "ensemble = Ensemble('multi:logloss_probs', 'simplex')\n",
    "ensemble.fit(list(val_preds.values()), Y_val)"
   ]
  },
  {
   "cell_type": "markdown",
   "id": "4c3921a7-0348-4871-91a6-d65300fb3dca",
   "metadata": {},
   "source": [
    "# Try unconstrained solver"
   ]
  },
  {
   "cell_type": "code",
   "execution_count": 14,
   "id": "74c9c0a9-0a8b-40c6-a9bb-8e26f54aa78a",
   "metadata": {},
   "outputs": [
    {
     "name": "stdout",
     "output_type": "stream",
     "text": [
      "Objective after step 1: 2184.9827028297386\n",
      "Objective after step 2: 1916.116680028233\n",
      "Objective after step 3: 1889.5539663762625\n",
      "Objective after step 4: 1888.5656862057594\n",
      "Objective after step 5: 1888.563362738729\n",
      "Objective after step 6: 1888.5633627228988\n",
      "Stopping after 6 steps\n"
     ]
    }
   ],
   "source": [
    "unconstrained_weights = solve_multiclass_logloss_logits(logit_preds, Y_val, 'none', verbose=True)"
   ]
  },
  {
   "cell_type": "code",
   "execution_count": 15,
   "id": "051014a9-82ec-4744-9bd6-8223e1835f42",
   "metadata": {},
   "outputs": [
    {
     "data": {
      "image/png": "[encoded data removed]",
      "text/plain": [
       "<Figure size 432x288 with 1 Axes>"
      ]
     },
     "metadata": {
      "needs_background": "light"
     },
     "output_type": "display_data"
    }
   ],
   "source": [
    "# Plot learned weights\n",
    "plt.figure()\n",
    "plt.bar(range(len(models)), unconstrained_weights)\n",
    "plt.xticks(range(len(models)), val_preds.keys(), rotation=45,\n",
    "           rotation_mode='anchor', ha='right')\n",
    "plt.title('Learned Ensemble Weights')\n",
    "plt.ylabel('Weights')\n",
    "plt.show()"
   ]
  },
  {
   "cell_type": "code",
   "execution_count": 16,
   "id": "1f09a8e1-2deb-484a-8c9f-644213266001",
   "metadata": {},
   "outputs": [
    {
     "name": "stdout",
     "output_type": "stream",
     "text": [
      "SQP objective value (nonneg): 1888.5633627228988\n"
     ]
    }
   ],
   "source": [
    "print(f'SQP objective value (nonneg): {multiclass_logloss_logits_helper(logit_preds, Y_val, unconstrained_weights)[0]}')"
   ]
  },
  {
   "cell_type": "code",
   "execution_count": null,
   "id": "13ffb053-940a-4054-923d-0be5afc2bbce",
   "metadata": {},
   "outputs": [],
   "source": []
  }
 ],
 "metadata": {
  "kernelspec": {
   "display_name": "Python 3",
   "language": "python",
   "name": "python3"
  },
  "language_info": {
   "codemirror_mode": {
    "name": "ipython",
    "version": 3
   },
   "file_extension": ".py",
   "mimetype": "text/x-python",
   "name": "python",
   "nbconvert_exporter": "python",
   "pygments_lexer": "ipython3",
   "version": "3.6.13"
  }
 },
 "nbformat": 4,
 "nbformat_minor": 5
}
